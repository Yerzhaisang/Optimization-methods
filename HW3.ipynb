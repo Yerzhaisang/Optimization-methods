{
 "cells": [
  {
   "cell_type": "markdown",
   "metadata": {},
   "source": [
    "### 10"
   ]
  },
  {
   "cell_type": "code",
   "execution_count": 221,
   "metadata": {},
   "outputs": [],
   "source": [
    "import numpy as np"
   ]
  },
  {
   "cell_type": "code",
   "execution_count": 222,
   "metadata": {},
   "outputs": [],
   "source": [
    "def ros(x, y):\n",
    "    return 100*(y - x**2)**2+(1 - x)**2\n",
    "\n",
    "def grad(x, y):\n",
    "    return np.array([-400 * x * (y - x**2) - 2 * (1 - x), 200 * (y - x**2)])\n",
    "\n",
    "def hessian(x, y):\n",
    "    return np.array([[-400 * (y - x**2) + 800 * x**2 + 2, -400 * x],[-400 * x, 200]])"
   ]
  },
  {
   "cell_type": "markdown",
   "metadata": {},
   "source": [
    "#### 10.1"
   ]
  },
  {
   "cell_type": "code",
   "execution_count": 223,
   "metadata": {},
   "outputs": [],
   "source": [
    "def newton(x, y, iters=100, tol=1e-6):\n",
    "    x_cur = x\n",
    "    y_cur = y\n",
    "    i=0\n",
    "    while i<iters:\n",
    "        step = np.linalg.inv(hessian(x_cur, y_cur)) @ grad(x_cur,y_cur)\n",
    "        x_cur = x_cur - step[0]\n",
    "        y_cur = y_cur - step[1]\n",
    "        if np.linalg.norm(step, 2) <= tol:\n",
    "           return x_cur, y_cur, i + 1\n",
    "        i += 1\n",
    "    return x_cur, y_cur, i + 1"
   ]
  },
  {
   "cell_type": "code",
   "execution_count": 225,
   "metadata": {},
   "outputs": [
    {
     "name": "stdout",
     "output_type": "stream",
     "text": [
      "(1.0, 0.9999999999999842) was achieved in 6 iterations, optimum value is 2.4854048895119503e-26\n"
     ]
    }
   ],
   "source": [
    "x, y, i = newton(-2,5)\n",
    "print(f'{x, y} was achieved in {i} iterations, optimum value is {ros(x,y)}')"
   ]
  },
  {
   "cell_type": "markdown",
   "metadata": {},
   "source": [
    "#### 10.2"
   ]
  },
  {
   "cell_type": "code",
   "execution_count": 226,
   "metadata": {},
   "outputs": [],
   "source": [
    "from scipy.optimize import line_search "
   ]
  },
  {
   "cell_type": "code",
   "execution_count": 227,
   "metadata": {},
   "outputs": [],
   "source": [
    "def ros(p):\n",
    "    if p is None:\n",
    "        return None\n",
    "    x, y = p[0], p[1]\n",
    "    return 100 * (y - x**2)**2 + (1 - x)**2\n",
    "\n",
    "def grad(p):\n",
    "    x, y = p[0], p[1]\n",
    "    \n",
    "    return np.array([-400 * x * (y - x**2) - 2 * (1 - x), 200 * (y - x**2)])"
   ]
  },
  {
   "cell_type": "code",
   "execution_count": 228,
   "metadata": {},
   "outputs": [],
   "source": [
    "def BFGS(xy, tol=1e-3):\n",
    "    xk = xy\n",
    "    gr = grad(xy)\n",
    "    H = np.eye(2)\n",
    "    i=0\n",
    "    while i < 100:\n",
    "        pk = -H @ gr\n",
    "        alpha = line_search(ros, grad, xk, pk)[0]\n",
    "        \n",
    "        s = alpha * pk\n",
    "        xk = xk + s\n",
    "        d = grad(xk) - gr\n",
    "        gr = gr + d\n",
    "        if np.linalg.norm(gr) <= tol:\n",
    "            return xk[0], xk[1], i\n",
    "            \n",
    "        ro = 1. / np.dot(d, s)\n",
    "        H = (np.eye(2) - ro * np.outer(s, d)) @  H @ (np.eye(2) - ro * np.outer(d, s)) + ro *np.outer(s, s)\n",
    "        i+=1\n",
    "    return xk[0], xk[1], i    "
   ]
  },
  {
   "cell_type": "code",
   "execution_count": 229,
   "metadata": {},
   "outputs": [
    {
     "name": "stdout",
     "output_type": "stream",
     "text": [
      "(0.9999978472438996, 0.9999956567545061) was achieved in 28 iterations, optimum value is 4.7767739453894664e-12\n"
     ]
    }
   ],
   "source": [
    "x, y, i = BFGS(np.array([-3,4]))\n",
    "print(f'{x, y} was achieved in {i} iterations, optimum value is {ros([x, y])}')"
   ]
  }
 ],
 "metadata": {
  "kernelspec": {
   "display_name": "Python 3",
   "language": "python",
   "name": "python3"
  },
  "language_info": {
   "codemirror_mode": {
    "name": "ipython",
    "version": 3
   },
   "file_extension": ".py",
   "mimetype": "text/x-python",
   "name": "python",
   "nbconvert_exporter": "python",
   "pygments_lexer": "ipython3",
   "version": "3.7.4"
  }
 },
 "nbformat": 4,
 "nbformat_minor": 4
}
