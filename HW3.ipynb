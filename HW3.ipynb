{
 "cells": [
  {
   "cell_type": "code",
   "execution_count": 6,
   "metadata": {},
   "outputs": [],
   "source": [
    "import numpy as np"
   ]
  },
  {
   "cell_type": "code",
   "execution_count": 7,
   "metadata": {},
   "outputs": [],
   "source": [
    "def func(x,y):\n",
    "    return 100*((y-x**2)**2)+(1-x)**2"
   ]
  },
  {
   "cell_type": "code",
   "execution_count": 8,
   "metadata": {},
   "outputs": [],
   "source": [
    "def gradd(x,y):\n",
    "    retturn (np.array(2*x - 400*x*(- x**2 + y) - 2, - 200*x**2 + 200*y))"
   ]
  },
  {
   "cell_type": "code",
   "execution_count": 9,
   "metadata": {},
   "outputs": [],
   "source": [
    "def hess(x,y):\n",
    "    return (np.array(1200*x**2 - 400*y + 2, -400*x, -400*x,    200))"
   ]
  },
  {
   "cell_type": "code",
   "execution_count": null,
   "metadata": {},
   "outputs": [],
   "source": [
    "eps = 1e-6\n",
    "iter = 0\n",
    "X=[10, -10]\n",
    "while True:\n",
    "    X2 = X.T-(np.inv(hess(X(0,0),X(0,1)))@gradd(X(0,0),X(0,1)).T)\n",
    "    if norm(X-X2) <= eps\n",
    "        break\n",
    "    X = X2.T\n",
    "    iter = iter+1\n",
    "func(X(0,0),X(0,1))"
   ]
  },
  {
   "cell_type": "code",
   "execution_count": null,
   "metadata": {},
   "outputs": [],
   "source": [
    "iter = 0\n",
    "X=[10, -10]\n",
    "\n",
    "I = np.eye(2)\n",
    "H = np.inv(hess(X(0,0),hess(0,1)))\n",
    "\n",
    "while True:\n",
    "    X2 = X.T-alpha*H@gradd(X(0,0),X(0,1)).T\n",
    "    X2 = X2.T\n",
    "    yk = gradd(X2(0,0),X2(0,1)) - gradd(X(0,0),X(0,1))\n",
    "    yk = yk.T\n",
    "    sk = (X2-X).T\n",
    "    H2 = (I-((sk@yk.T)/(yk.T@sk)))@H@(I-((yk@sk.T)/(yk.T@sk)))+((sk@sk.T)/(yk.T@sk))\n",
    "    v = yk.T@sk\n",
    "    if np.linalg.norm(X-X2) < eps:\n",
    "        break\n",
    "    X = X2\n",
    "    H = H2\n",
    "    iter=iter+1\n",
    "func(X(0,0),X(0,1))"
   ]
  }
 ],
 "metadata": {
  "kernelspec": {
   "display_name": "Python 3",
   "language": "python",
   "name": "python3"
  },
  "language_info": {
   "codemirror_mode": {
    "name": "ipython",
    "version": 3
   },
   "file_extension": ".py",
   "mimetype": "text/x-python",
   "name": "python",
   "nbconvert_exporter": "python",
   "pygments_lexer": "ipython3",
   "version": "3.7.4"
  }
 },
 "nbformat": 4,
 "nbformat_minor": 2
}
