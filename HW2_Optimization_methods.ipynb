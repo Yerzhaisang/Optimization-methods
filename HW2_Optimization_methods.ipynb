{
 "cells": [
  {
   "cell_type": "markdown",
   "metadata": {},
   "source": [
    "# Homework # 02\n",
    "## Prof. Elena Gryazina, Mazhar Ali (TA), Oleg Khamisov (TA)\n",
    "## Student Yerzhaisang Taskali\n",
    "## (Total: 35 points)\n",
    "### Submission Deadline: 17th February (Monday) 16:00 PM"
   ]
  },
  {
   "cell_type": "markdown",
   "metadata": {},
   "source": [
    "### Question 01\n",
    "$\\text{(2 point) Find minimum (i.e. both point $x*$ and function value $f*$ = $f(x*)$) of function with\n",
    "respect to parameters $a; b; c : f(x) = ax^2 + bx + c$}$"
   ]
  },
  {
   "cell_type": "markdown",
   "metadata": {},
   "source": [
    "### Solution\n",
    "$$f(x) = ax^2 + bx + c$$\n",
    "$$f'(x) = 2ax + b$$\n",
    "$$f'(x) = 0$$\n",
    "$$x^*=-\\frac{b}{2a}$$\n",
    "$$f(x^*)=\\frac{b^2}{4a}-\\frac{b^2}{2a}+c$$\n",
    "$$f(x^*)=-\\frac{b^2}{4a}+c$$\n",
    "$$\\text{In this problem, $a$ should be more than 0, because }f''(x) = 2a>0$$\n",
    "$$\\text{If $a=0$ there is no minimum, because $f(x) = bx + c$ is linear function}$$\n",
    "$$\\text{If $b=0$, then $f(x^*)=c$}$$"
   ]
  },
  {
   "cell_type": "markdown",
   "metadata": {},
   "source": [
    "### Question 02:\n",
    "$\\text{(1 point) What are dimensions of gradient of a function $h(x) = f(Ax)$, constructed of function $f:\\mathbb{R}_m\\rightarrow \\mathbb{R}$ and matrix $A\\in \\mathbb{R}^{m\\times k}$,}$$\\text{ so the dimension $\\bigtriangledown h(x)$ is?}$"
   ]
  },
  {
   "cell_type": "markdown",
   "metadata": {},
   "source": [
    "### Solution\n",
    "$$\\text{Well, it's easy:)}$$\n",
    "$$\\text{$A\\in \\mathbb{R}^{m\\times k}$ says that it has $m$ rows and $k$ columns. From this fact, we know that $x$ vector has $k$ elements.}$$\n",
    "$$\\text{Thus, the dimension of $\\bigtriangledown h(x)$ is $\\bigtriangledown h(x) \\in \\mathbb{R}^{k \\times 1}$} $$"
   ]
  },
  {
   "cell_type": "markdown",
   "metadata": {},
   "source": [
    "### Question 03:\n",
    "$\\text{(3 point) Prove that for a strongly convex function with parameter $\\mu$ holds $\\frac{\\mu}{2}\\|x-x^*\\|_2^2\\leq f(x)-f(x^*)$}$"
   ]
  },
  {
   "cell_type": "markdown",
   "metadata": {},
   "source": [
    "### Solution\n",
    "$$\\text{Well, by definition, $f$ will be strongly convex function, if the following condition holds}$$\n",
    "$$f(y)\\geq f(x)+(\\bigtriangledown f(x), y-x)\\leq\\frac{\\mu}{2}\\|y-x\\|_2^2$$\n",
    "$$\\text{In our it will be as following}$$\n",
    "$$f(x)\\geq f(x^*)+(\\bigtriangledown f(x^*), x-x^*)\\leq\\frac{\\mu}{2}\\|x-x^*\\|_2^2$$\n",
    "$$\\bigtriangledown f(x^*)=0$$\n",
    "$$\\text{Thus, $\\frac{\\mu}{2}\\|x-x^*\\|_2^2\\leq f(x)-f(x^*)$}$$"
   ]
  },
  {
   "cell_type": "code",
   "execution_count": null,
   "metadata": {},
   "outputs": [],
   "source": []
  }
 ],
 "metadata": {
  "kernelspec": {
   "display_name": "Python 3",
   "language": "python",
   "name": "python3"
  },
  "language_info": {
   "codemirror_mode": {
    "name": "ipython",
    "version": 3
   },
   "file_extension": ".py",
   "mimetype": "text/x-python",
   "name": "python",
   "nbconvert_exporter": "python",
   "pygments_lexer": "ipython3",
   "version": "3.7.4"
  }
 },
 "nbformat": 4,
 "nbformat_minor": 2
}
